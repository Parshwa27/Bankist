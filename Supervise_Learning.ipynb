{
  "nbformat": 4,
  "nbformat_minor": 0,
  "metadata": {
    "colab": {
      "name": "Supervise Learning",
      "provenance": [],
      "collapsed_sections": [],
      "authorship_tag": "ABX9TyPPV1tTLD8vIgCOVseXMdfy"
    },
    "kernelspec": {
      "name": "python3",
      "display_name": "Python 3"
    },
    "language_info": {
      "name": "python"
    }
  },
  "cells": []
}